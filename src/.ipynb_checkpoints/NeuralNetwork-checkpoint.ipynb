{
 "cells": [
  {
   "cell_type": "code",
   "execution_count": 5,
   "metadata": {
    "collapsed": false
   },
   "outputs": [],
   "source": [
    "from keras.models import Sequential\n",
    "from keras.layers.core import Dense, Dropout, Activation\n",
    "from keras.layers.recurrent import LSTM\n",
    "from keras.optimizers import SGD\n",
    "import os\n",
    "import pandas as pd\n",
    "import numpy as np\n",
    "from sklearn.preprocessing import MinMaxScaler\n",
    "\n",
    "os.chdir('../Utils/')\n",
    "import featureGenerator\n",
    "from featureGenerator import *\n"
   ]
  },
  {
   "cell_type": "markdown",
   "metadata": {},
   "source": [
    "# Generate Features and Response Vars"
   ]
  },
  {
   "cell_type": "code",
   "execution_count": 2,
   "metadata": {
    "collapsed": false
   },
   "outputs": [
    {
     "name": "stderr",
     "output_type": "stream",
     "text": [
      "/Users/adam/Desktop/Stanford/MSE 448/448 Project/Utils/featureGenerator.py:42: SettingWithCopyWarning: \n",
      "A value is trying to be set on a copy of a slice from a DataFrame.\n",
      "Try using .loc[row_indexer,col_indexer] = value instead\n",
      "\n",
      "See the caveats in the documentation: http://pandas.pydata.org/pandas-docs/stable/indexing.html#indexing-view-versus-copy\n",
      "  data['Response'] = response_col\n"
     ]
    }
   ],
   "source": [
    "data_dir = '../../ProjectData/'\n",
    "in_path = data_dir+'msft-orderbook.csv'\n",
    "out_path = data_dir+'msft-orderbook-v2.csv'\n",
    "\n",
    "createFeatures(in_path, out_path)"
   ]
  },
  {
   "cell_type": "code",
   "execution_count": 40,
   "metadata": {
    "collapsed": false
   },
   "outputs": [],
   "source": [
    "data = pd.read_csv(out_path)\n",
    "data = data.drop(['datetime', 'direct.last_SRO'], axis = 1)\n",
    "dataset = data.values\n",
    "dataset = dataset.astype('float32')\n",
    "\n",
    "# normalize the dataset\n",
    "#scaler = MinMaxScaler(feature_range=(0, 1))\n",
    "#dataset = scaler.fit_transform(dataset)"
   ]
  },
  {
   "cell_type": "code",
   "execution_count": 41,
   "metadata": {
    "collapsed": false
   },
   "outputs": [
    {
     "data": {
      "text/html": [
       "<div>\n",
       "<style>\n",
       "    .dataframe thead tr:only-child th {\n",
       "        text-align: right;\n",
       "    }\n",
       "\n",
       "    .dataframe thead th {\n",
       "        text-align: left;\n",
       "    }\n",
       "\n",
       "    .dataframe tbody tr th {\n",
       "        vertical-align: top;\n",
       "    }\n",
       "</style>\n",
       "<table border=\"1\" class=\"dataframe\">\n",
       "  <thead>\n",
       "    <tr style=\"text-align: right;\">\n",
       "      <th></th>\n",
       "      <th>direct.bid1</th>\n",
       "      <th>direct.ask1</th>\n",
       "      <th>direct.bsize1</th>\n",
       "      <th>direct.asize1</th>\n",
       "      <th>direct.bnum1</th>\n",
       "      <th>direct.anum1</th>\n",
       "      <th>direct.bid2</th>\n",
       "      <th>direct.ask2</th>\n",
       "      <th>direct.bsize2</th>\n",
       "      <th>direct.asize2</th>\n",
       "      <th>...</th>\n",
       "      <th>direct.anum10</th>\n",
       "      <th>direct.last_price</th>\n",
       "      <th>direct.vwap</th>\n",
       "      <th>direct.spread</th>\n",
       "      <th>direct.mid</th>\n",
       "      <th>direct.wmid</th>\n",
       "      <th>direct.volume</th>\n",
       "      <th>direct.notional</th>\n",
       "      <th>direct.last_size</th>\n",
       "      <th>Response</th>\n",
       "    </tr>\n",
       "  </thead>\n",
       "  <tbody>\n",
       "    <tr>\n",
       "      <th>0</th>\n",
       "      <td>65.29</td>\n",
       "      <td>65.32</td>\n",
       "      <td>53100</td>\n",
       "      <td>17</td>\n",
       "      <td>7</td>\n",
       "      <td>1</td>\n",
       "      <td>65.27</td>\n",
       "      <td>65.35</td>\n",
       "      <td>2</td>\n",
       "      <td>100</td>\n",
       "      <td>...</td>\n",
       "      <td>3</td>\n",
       "      <td>65.29</td>\n",
       "      <td>65.250597</td>\n",
       "      <td>0.03</td>\n",
       "      <td>65.305</td>\n",
       "      <td>65.319990</td>\n",
       "      <td>17805</td>\n",
       "      <td>1161786.88</td>\n",
       "      <td>500</td>\n",
       "      <td>65.300</td>\n",
       "    </tr>\n",
       "    <tr>\n",
       "      <th>1</th>\n",
       "      <td>65.29</td>\n",
       "      <td>65.31</td>\n",
       "      <td>2412</td>\n",
       "      <td>505</td>\n",
       "      <td>4</td>\n",
       "      <td>2</td>\n",
       "      <td>65.27</td>\n",
       "      <td>65.32</td>\n",
       "      <td>715</td>\n",
       "      <td>821</td>\n",
       "      <td>...</td>\n",
       "      <td>2</td>\n",
       "      <td>65.29</td>\n",
       "      <td>65.283737</td>\n",
       "      <td>0.02</td>\n",
       "      <td>65.300</td>\n",
       "      <td>65.306538</td>\n",
       "      <td>98044</td>\n",
       "      <td>6400678.71</td>\n",
       "      <td>100</td>\n",
       "      <td>65.240</td>\n",
       "    </tr>\n",
       "    <tr>\n",
       "      <th>2</th>\n",
       "      <td>65.23</td>\n",
       "      <td>65.25</td>\n",
       "      <td>2123</td>\n",
       "      <td>80</td>\n",
       "      <td>17</td>\n",
       "      <td>1</td>\n",
       "      <td>65.22</td>\n",
       "      <td>65.26</td>\n",
       "      <td>200</td>\n",
       "      <td>200</td>\n",
       "      <td>...</td>\n",
       "      <td>2</td>\n",
       "      <td>65.25</td>\n",
       "      <td>65.281739</td>\n",
       "      <td>0.02</td>\n",
       "      <td>65.240</td>\n",
       "      <td>65.249274</td>\n",
       "      <td>107198</td>\n",
       "      <td>6998071.81</td>\n",
       "      <td>5</td>\n",
       "      <td>65.195</td>\n",
       "    </tr>\n",
       "    <tr>\n",
       "      <th>3</th>\n",
       "      <td>65.18</td>\n",
       "      <td>65.21</td>\n",
       "      <td>276</td>\n",
       "      <td>100</td>\n",
       "      <td>3</td>\n",
       "      <td>1</td>\n",
       "      <td>65.17</td>\n",
       "      <td>65.22</td>\n",
       "      <td>451</td>\n",
       "      <td>100</td>\n",
       "      <td>...</td>\n",
       "      <td>5</td>\n",
       "      <td>65.20</td>\n",
       "      <td>65.278454</td>\n",
       "      <td>0.03</td>\n",
       "      <td>65.195</td>\n",
       "      <td>65.202021</td>\n",
       "      <td>112623</td>\n",
       "      <td>7351855.35</td>\n",
       "      <td>100</td>\n",
       "      <td>65.170</td>\n",
       "    </tr>\n",
       "    <tr>\n",
       "      <th>4</th>\n",
       "      <td>65.16</td>\n",
       "      <td>65.18</td>\n",
       "      <td>272</td>\n",
       "      <td>100</td>\n",
       "      <td>3</td>\n",
       "      <td>1</td>\n",
       "      <td>65.15</td>\n",
       "      <td>65.19</td>\n",
       "      <td>1820</td>\n",
       "      <td>100</td>\n",
       "      <td>...</td>\n",
       "      <td>2</td>\n",
       "      <td>65.16</td>\n",
       "      <td>65.276766</td>\n",
       "      <td>0.02</td>\n",
       "      <td>65.170</td>\n",
       "      <td>65.174624</td>\n",
       "      <td>114829</td>\n",
       "      <td>7495665.82</td>\n",
       "      <td>28</td>\n",
       "      <td>65.170</td>\n",
       "    </tr>\n",
       "  </tbody>\n",
       "</table>\n",
       "<p>5 rows × 69 columns</p>\n",
       "</div>"
      ],
      "text/plain": [
       "   direct.bid1  direct.ask1  direct.bsize1  direct.asize1  direct.bnum1  \\\n",
       "0        65.29        65.32          53100             17             7   \n",
       "1        65.29        65.31           2412            505             4   \n",
       "2        65.23        65.25           2123             80            17   \n",
       "3        65.18        65.21            276            100             3   \n",
       "4        65.16        65.18            272            100             3   \n",
       "\n",
       "   direct.anum1  direct.bid2  direct.ask2  direct.bsize2  direct.asize2  \\\n",
       "0             1        65.27        65.35              2            100   \n",
       "1             2        65.27        65.32            715            821   \n",
       "2             1        65.22        65.26            200            200   \n",
       "3             1        65.17        65.22            451            100   \n",
       "4             1        65.15        65.19           1820            100   \n",
       "\n",
       "     ...     direct.anum10  direct.last_price  direct.vwap  direct.spread  \\\n",
       "0    ...                 3              65.29    65.250597           0.03   \n",
       "1    ...                 2              65.29    65.283737           0.02   \n",
       "2    ...                 2              65.25    65.281739           0.02   \n",
       "3    ...                 5              65.20    65.278454           0.03   \n",
       "4    ...                 2              65.16    65.276766           0.02   \n",
       "\n",
       "   direct.mid  direct.wmid  direct.volume  direct.notional  direct.last_size  \\\n",
       "0      65.305    65.319990          17805       1161786.88               500   \n",
       "1      65.300    65.306538          98044       6400678.71               100   \n",
       "2      65.240    65.249274         107198       6998071.81                 5   \n",
       "3      65.195    65.202021         112623       7351855.35               100   \n",
       "4      65.170    65.174624         114829       7495665.82                28   \n",
       "\n",
       "   Response  \n",
       "0    65.300  \n",
       "1    65.240  \n",
       "2    65.195  \n",
       "3    65.170  \n",
       "4    65.170  \n",
       "\n",
       "[5 rows x 69 columns]"
      ]
     },
     "execution_count": 41,
     "metadata": {},
     "output_type": "execute_result"
    }
   ],
   "source": [
    "data.head()"
   ]
  },
  {
   "cell_type": "markdown",
   "metadata": {},
   "source": [
    "# Train/Test Split"
   ]
  },
  {
   "cell_type": "code",
   "execution_count": 42,
   "metadata": {
    "collapsed": false
   },
   "outputs": [
    {
     "name": "stdout",
     "output_type": "stream",
     "text": [
      "15677 7722\n"
     ]
    }
   ],
   "source": [
    "# split into train and test sets\n",
    "train_size = int(len(dataset) * 0.67)\n",
    "test_size = len(dataset) - train_size\n",
    "train, test = dataset[0:train_size,:], dataset[train_size:len(dataset),:]\n",
    "print(len(train), len(test))"
   ]
  },
  {
   "cell_type": "code",
   "execution_count": 43,
   "metadata": {
    "collapsed": true
   },
   "outputs": [],
   "source": [
    "# convert an array of values into a dataset matrix\n",
    "def create_dataset(dataset, look_back=1):\n",
    "    dataX, dataY = [], []\n",
    "    for i in range(len(dataset)-look_back-1):\n",
    "        a = dataset[i:(i+look_back), 0]\n",
    "        dataX.append(a)\n",
    "        dataY.append(dataset[i + look_back, 0])\n",
    "    return np.array(dataX), np.array(dataY)"
   ]
  },
  {
   "cell_type": "code",
   "execution_count": 44,
   "metadata": {
    "collapsed": false
   },
   "outputs": [
    {
     "data": {
      "text/plain": [
       "array([  6.51900024e+01,   6.51999969e+01,   5.98000000e+03,\n",
       "         5.38700000e+03,   4.70000000e+01,   4.00000000e+01,\n",
       "         6.51800003e+01,   6.52099991e+01,   6.89200000e+03,\n",
       "         6.76100000e+03,   5.60000000e+01,   4.90000000e+01,\n",
       "         6.51699982e+01,   6.52200012e+01,   8.42400000e+03,\n",
       "         6.20600000e+03,   5.80000000e+01,   4.80000000e+01,\n",
       "         6.51600037e+01,   6.52300034e+01,   6.77900000e+03,\n",
       "         7.57000000e+03,   5.40000000e+01,   5.70000000e+01,\n",
       "         6.51500015e+01,   6.52399979e+01,   7.73700000e+03,\n",
       "         6.01300000e+03,   5.80000000e+01,   5.00000000e+01,\n",
       "         6.51399994e+01,   6.52500000e+01,   1.80120000e+04,\n",
       "         5.85400000e+03,   5.60000000e+01,   5.00000000e+01,\n",
       "         6.51299973e+01,   6.52600021e+01,   5.01300000e+03,\n",
       "         5.16300000e+03,   4.20000000e+01,   5.00000000e+01,\n",
       "         6.51200027e+01,   6.52699966e+01,   5.40000000e+03,\n",
       "         3.89600000e+03,   3.30000000e+01,   3.30000000e+01,\n",
       "         6.51100006e+01,   6.52799988e+01,   4.30000000e+03,\n",
       "         3.45000000e+03,   3.10000000e+01,   3.00000000e+01,\n",
       "         6.50999985e+01,   6.52900009e+01,   5.80100000e+03,\n",
       "         3.55000000e+03,   3.40000000e+01,   2.90000000e+01,\n",
       "         6.51900024e+01,   6.54885025e+01,   9.99999978e-03,\n",
       "         6.51949997e+01,   6.51952591e+01,   5.69489300e+06,\n",
       "         3.72950016e+08,   1.00000000e+02,   6.51949997e+01], dtype=float32)"
      ]
     },
     "execution_count": 44,
     "metadata": {},
     "output_type": "execute_result"
    }
   ],
   "source": [
    "test[0]"
   ]
  },
  {
   "cell_type": "code",
   "execution_count": null,
   "metadata": {
    "collapsed": true
   },
   "outputs": [],
   "source": [
    "class OrderBookNN:\n",
    "    def __init__(self, input_length, hidden)"
   ]
  },
  {
   "cell_type": "code",
   "execution_count": 14,
   "metadata": {
    "collapsed": false
   },
   "outputs": [
    {
     "data": {
      "text/plain": [
       "array([['2017-04-13 09:30:00', 65.29, 65.32, ..., 500, 'INET',\n",
       "        65.30000000000001],\n",
       "       ['2017-04-13 09:30:01', 65.29, 65.31, ..., 100, 'INET',\n",
       "        65.24000000000001],\n",
       "       ['2017-04-13 09:30:02', 65.23, 65.25, ..., 5, 'BATS', 65.195],\n",
       "       ..., \n",
       "       ['2017-04-13 15:59:56', 64.98, 64.99, ..., 473, 'INET', 64.975],\n",
       "       ['2017-04-13 15:59:57', 64.97, 64.98, ..., 100, 'INET', 64.965],\n",
       "       ['2017-04-13 15:59:58', 64.96, 64.97, ..., 146, 'EDGX', 64.965]], dtype=object)"
      ]
     },
     "execution_count": 14,
     "metadata": {},
     "output_type": "execute_result"
    }
   ],
   "source": []
  },
  {
   "cell_type": "code",
   "execution_count": null,
   "metadata": {
    "collapsed": true
   },
   "outputs": [],
   "source": []
  }
 ],
 "metadata": {
  "kernelspec": {
   "display_name": "Python 3",
   "language": "python",
   "name": "python3"
  },
  "language_info": {
   "codemirror_mode": {
    "name": "ipython",
    "version": 3
   },
   "file_extension": ".py",
   "mimetype": "text/x-python",
   "name": "python",
   "nbconvert_exporter": "python",
   "pygments_lexer": "ipython3",
   "version": "3.6.3"
  }
 },
 "nbformat": 4,
 "nbformat_minor": 0
}
